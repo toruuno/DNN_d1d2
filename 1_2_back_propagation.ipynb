{
  "nbformat": 4,
  "nbformat_minor": 0,
  "metadata": {
    "kernelspec": {
      "display_name": "Python 3",
      "language": "python",
      "name": "python3"
    },
    "language_info": {
      "codemirror_mode": {
        "name": "ipython",
        "version": 3
      },
      "file_extension": ".py",
      "mimetype": "text/x-python",
      "name": "python",
      "nbconvert_exporter": "python",
      "pygments_lexer": "ipython3",
      "version": "3.6.3"
    },
    "colab": {
      "name": "1_2_back_propagation.ipynb",
      "provenance": [],
      "collapsed_sections": [],
      "toc_visible": true,
      "include_colab_link": true
    }
  },
  "cells": [
    {
      "cell_type": "markdown",
      "metadata": {
        "id": "view-in-github",
        "colab_type": "text"
      },
      "source": [
        "<a href=\"https://colab.research.google.com/github/toruuno/DNN_d1d2/blob/master/1_2_back_propagation.ipynb\" target=\"_parent\"><img src=\"https://colab.research.google.com/assets/colab-badge.svg\" alt=\"Open In Colab\"/></a>"
      ]
    },
    {
      "cell_type": "markdown",
      "metadata": {
        "id": "8cNl2QA_Rnv5"
      },
      "source": [
        "# 準備"
      ]
    },
    {
      "cell_type": "markdown",
      "metadata": {
        "id": "YkwjN1jNVAYy"
      },
      "source": [
        "## Googleドライブのマウント"
      ]
    },
    {
      "cell_type": "code",
      "metadata": {
        "id": "pvFXpiH3EVC1",
        "colab": {
          "base_uri": "https://localhost:8080/"
        },
        "outputId": "0abfb6cb-4b9c-4f6c-9c64-df1f8f7650bf"
      },
      "source": [
        "from google.colab import drive\n",
        "drive.mount('/content/drive')"
      ],
      "execution_count": null,
      "outputs": [
        {
          "output_type": "stream",
          "name": "stdout",
          "text": [
            "Drive already mounted at /content/drive; to attempt to forcibly remount, call drive.mount(\"/content/drive\", force_remount=True).\n"
          ]
        }
      ]
    },
    {
      "cell_type": "markdown",
      "metadata": {
        "id": "3Ub7RYdeY6pK"
      },
      "source": [
        "## sys.pathの設定"
      ]
    },
    {
      "cell_type": "markdown",
      "metadata": {
        "id": "oql7L19rEsWi"
      },
      "source": [
        "以下では，Googleドライブのマイドライブ直下にDNN_codeフォルダを置くことを仮定しています．必要に応じて，パスを変更してください．"
      ]
    },
    {
      "cell_type": "code",
      "metadata": {
        "id": "7Ic2JzkvFX59"
      },
      "source": [
        "import sys\n",
        "sys.path.append('/content/drive/My Drive/DNN_code')\n",
        "sys.path.append('/content/drive/My Drive/common')\n",
        "sys.path.append('/content/drive/My Drive')"
      ],
      "execution_count": null,
      "outputs": []
    },
    {
      "cell_type": "markdown",
      "metadata": {
        "id": "k5L0AWliZYng"
      },
      "source": [
        "# importと関数定義"
      ]
    },
    {
      "cell_type": "code",
      "metadata": {
        "id": "aNcuxoGogLvM"
      },
      "source": [
        "import numpy as np\n",
        "from common import functions\n",
        "import matplotlib.pyplot as plt\n",
        "\n",
        "def print_vec(text, vec):\n",
        "    print(\"*** \" + text + \" ***\")\n",
        "    print(vec)\n",
        "    #print(\"shape: \" + str(x.shape))\n",
        "    print(\"\")\n"
      ],
      "execution_count": null,
      "outputs": []
    },
    {
      "cell_type": "markdown",
      "metadata": {
        "id": "uhkhpJjOgbtF"
      },
      "source": [
        "# メインプログラム"
      ]
    },
    {
      "cell_type": "code",
      "metadata": {
        "id": "Ma1nAxuegLvQ",
        "colab": {
          "base_uri": "https://localhost:8080/"
        },
        "outputId": "165ceccb-b81d-4827-f55f-d718e1c4ef6a"
      },
      "source": [
        "# ウェイトとバイアスを設定\n",
        "# ネートワークを作成\n",
        "def init_network(debug=True):\n",
        "    if debug:\n",
        "      print(\"##### ネットワークの初期化 #####\")\n",
        "\n",
        "    network = {}\n",
        "    network['W1'] = np.array([\n",
        "        [0.1, 0.3, 0.5],\n",
        "        [0.2, 0.4, 0.6]\n",
        "    ])\n",
        "\n",
        "    network['W2'] = np.array([\n",
        "        [0.1, 0.4],\n",
        "        [0.2, 0.5],\n",
        "        [0.3, 0.6]\n",
        "    ])\n",
        "\n",
        "    network['b1'] = np.array([0.1, 0.2, 0.3])\n",
        "    network['b2'] = np.array([0.1, 0.2])\n",
        "    \n",
        "    if debug:\n",
        "      print_vec(\"重み1\", network['W1'])\n",
        "      print_vec(\"重み2\", network['W2'])\n",
        "      print_vec(\"バイアス1\", network['b1'])\n",
        "      print_vec(\"バイアス2\", network['b2'])\n",
        "\n",
        "    return network\n",
        "\n",
        "# 順伝播\n",
        "def forward(network, x, debug=True):\n",
        "    if debug:\n",
        "      print(\"##### 順伝播開始 #####\")\n",
        "\n",
        "    W1, W2 = network['W1'], network['W2']\n",
        "    b1, b2 = network['b1'], network['b2']\n",
        "    \n",
        "    u1 = np.dot(x, W1) + b1\n",
        "    z1 = functions.relu(u1)\n",
        "    u2 = np.dot(z1, W2) + b2\n",
        "    y = functions.softmax(u2)\n",
        "    \n",
        "    if debug:\n",
        "      print_vec(\"総入力1\", u1)\n",
        "      print_vec(\"中間層出力1\", z1)\n",
        "      print_vec(\"総入力2\", u2)\n",
        "      print_vec(\"出力1\", y)\n",
        "      print(\"出力合計: \" + str(np.sum(y)))\n",
        "\n",
        "    return y, z1\n",
        "\n",
        "# 誤差逆伝播\n",
        "def backward(x, d, z1, y, debug=True):\n",
        "    if debug:\n",
        "      print(\"\\n##### 誤差逆伝播開始 #####\")\n",
        "\n",
        "    grad = {}\n",
        "\n",
        "    W1, W2 = network['W1'], network['W2']\n",
        "    b1, b2 = network['b1'], network['b2']\n",
        "    #  出力層でのデルタ\n",
        "    delta2 = functions.d_sigmoid_with_loss(d, y)\n",
        "    #  b2の勾配\n",
        "    grad['b2'] = np.sum(delta2, axis=0)\n",
        "    #  W2の勾配\n",
        "    grad['W2'] = np.dot(z1.T, delta2)\n",
        "    #  中間層でのデルタ\n",
        "    delta1 = np.dot(delta2, W2.T) * functions.d_relu(z1)\n",
        "    # b1の勾配\n",
        "    grad['b1'] = np.sum(delta1, axis=0)\n",
        "    #  W1の勾配\n",
        "    grad['W1'] = np.dot(x.T, delta1)\n",
        "        \n",
        "    if debug:\n",
        "      print_vec(\"偏微分_dE/du2\", delta2)\n",
        "      print_vec(\"偏微分_dE/du2\", delta1)\n",
        "\n",
        "      print_vec(\"偏微分_重み1\", grad[\"W1\"])\n",
        "      print_vec(\"偏微分_重み2\", grad[\"W2\"])\n",
        "      print_vec(\"偏微分_バイアス1\", grad[\"b1\"])\n",
        "      print_vec(\"偏微分_バイアス2\", grad[\"b2\"])\n",
        "\n",
        "    return grad\n",
        "    \n",
        "# 訓練データ\n",
        "x = np.array([[1.0, 5.0]])\n",
        "# 目標出力\n",
        "d = np.array([[0, 1]])\n",
        "\n",
        "\n",
        "#課題設定：\n",
        "#学習率を弄り誤差の減り具合を評価\n",
        "#結果的には学習率が高いほど誤差の収束は進むという程度\n",
        "#(過学習か如何かはここでは一切気にしない)\n",
        "\n",
        "#  学習率\n",
        "learning_rates = [100, 10, 1, 0.1, 0.01, 0.001, 0.0001]\n",
        "#learning_rate = 0.01\n",
        "debugNow=False\n",
        "\n",
        "for learning_rate in learning_rates:\n",
        "  print(\"----------------------------\")\n",
        "  print(\"学習率:{}\".format(learning_rate))\n",
        "  network =  init_network(debug=debugNow)\n",
        "  y, z1 = forward(network, x, debug=debugNow)\n",
        "\n",
        "  # 誤差\n",
        "  loss_before = functions.cross_entropy_error(d, y)\n",
        "\n",
        "  grad = backward(x, d, z1, y, debug=debugNow)\n",
        "  for key in ('W1', 'W2', 'b1', 'b2'):\n",
        "      network[key]  -= learning_rate * grad[key]\n",
        "\n",
        "  print(\"##### 結果表示 #####\")    \n",
        "  y, z1 = forward(network, x, debug=debugNow)\n",
        "\n",
        "  # 誤差\n",
        "  loss_after = functions.cross_entropy_error(d, y)\n",
        "  print(\"誤差:before={}  after={}\".format(loss_before, loss_after))\n",
        "\n",
        "  if debugNow:\n",
        "    print(\"##### 更新後パラメータ #####\") \n",
        "    print_vec(\"重み1\", network['W1'])\n",
        "    print_vec(\"重み2\", network['W2'])\n",
        "    print_vec(\"バイアス1\", network['b1'])\n",
        "    print_vec(\"バイアス2\", network['b2'])\n"
      ],
      "execution_count": null,
      "outputs": [
        {
          "output_type": "stream",
          "name": "stdout",
          "text": [
            "----------------------------\n",
            "学習率:100\n",
            "##### 結果表示 #####\n",
            "誤差:before=0.09109133135793131  after=-9.999999505838704e-08\n",
            "----------------------------\n",
            "学習率:10\n",
            "##### 結果表示 #####\n",
            "誤差:before=0.09109133135793131  after=-9.999999505838704e-08\n",
            "----------------------------\n",
            "学習率:1\n",
            "##### 結果表示 #####\n",
            "誤差:before=0.09109133135793131  after=0.00035840211750155017\n",
            "----------------------------\n",
            "学習率:0.1\n",
            "##### 結果表示 #####\n",
            "誤差:before=0.09109133135793131  after=0.05759133192915599\n",
            "----------------------------\n",
            "学習率:0.01\n",
            "##### 結果表示 #####\n",
            "誤差:before=0.09109133135793131  after=0.08710960847142761\n",
            "----------------------------\n",
            "学習率:0.001\n",
            "##### 結果表示 #####\n",
            "誤差:before=0.09109133135793131  after=0.0906861813303538\n",
            "----------------------------\n",
            "学習率:0.0001\n",
            "##### 結果表示 #####\n",
            "誤差:before=0.09109133135793131  after=0.09105074589590591\n"
          ]
        }
      ]
    }
  ]
}